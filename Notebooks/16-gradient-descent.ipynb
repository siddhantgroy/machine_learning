{
 "cells": [
  {
   "cell_type": "markdown",
   "id": "41be0c8e-846d-4eab-8f50-1901a0676c03",
   "metadata": {},
   "source": [
    "# Gradient Descent"
   ]
  },
  {
   "cell_type": "code",
   "execution_count": 5,
   "id": "c89f3aba-489d-4297-91e8-fdc6da3a5a39",
   "metadata": {},
   "outputs": [],
   "source": [
    "import numpy as np\n",
    "import matplotlib.pyplot as plt"
   ]
  },
  {
   "cell_type": "markdown",
   "id": "84f04120-36ae-417a-b0a1-9bd22e0b8994",
   "metadata": {},
   "source": [
    "Defining the function and its first derivative"
   ]
  },
  {
   "cell_type": "code",
   "execution_count": 6,
   "id": "c97c0dd2-9929-452e-ad7e-3eb58cd9a8d5",
   "metadata": {},
   "outputs": [],
   "source": [
    "def f(x):\n",
    "    return x**2 - 4*x + 6\n",
    "\n",
    "def df(x):\n",
    "    return 2*x - 4"
   ]
  },
  {
   "cell_type": "markdown",
   "id": "041bbe03-ad09-44af-b119-a6c2fb341afe",
   "metadata": {},
   "source": [
    "Implementing the gradient descent function"
   ]
  },
  {
   "cell_type": "code",
   "execution_count": 7,
   "id": "ff22c379-9a11-4b25-ab14-da0d73c1f0ff",
   "metadata": {},
   "outputs": [],
   "source": [
    "def gradient_descent(initial_x, learning_rate, max_iter=-1, eps=0.001):\n",
    "    x = initial_x\n",
    "    x_history = [x]\n",
    "    converged = False\n",
    "    \n",
    "    iters = 0\n",
    "    while not converged:\n",
    "        gradient = df(x)\n",
    "        x = x - learning_rate * gradient\n",
    "        x_history.append(x)\n",
    "        \n",
    "        if abs(x - x_history[-2]) <= eps:\n",
    "            converged = True\n",
    "        \n",
    "        iters += 1\n",
    "        if iters == max_iter:\n",
    "            converged = True\n",
    "        \n",
    "    return x, iters, x_history"
   ]
  },
  {
   "cell_type": "markdown",
   "id": "abed0aea-2115-4cbf-8889-cd204abfa4ae",
   "metadata": {},
   "source": [
    "## Testing"
   ]
  },
  {
   "cell_type": "code",
   "execution_count": 11,
   "id": "ce01e68f-7efc-4881-9359-b9d960cd941e",
   "metadata": {},
   "outputs": [
    {
     "name": "stdout",
     "output_type": "stream",
     "text": [
      "Local Minimum: 1.9514009339755198 in 184 iterations\n"
     ]
    }
   ],
   "source": [
    "initial_x = 0\n",
    "learning_rate = 0.01\n",
    "max_iter = -1\n",
    "eps=0.001\n",
    "\n",
    "x, iters, x_history = gradient_descent(initial_x, learning_rate, max_iter, eps=0.001)\n",
    "\n",
    "print(f\"Local Minimum: {x} in {iters} iterations\")"
   ]
  },
  {
   "cell_type": "code",
   "execution_count": 13,
   "id": "8c701c07-5cd0-4a36-a51f-65ebef1a9c3e",
   "metadata": {
    "scrolled": true,
    "tags": []
   },
   "outputs": [
    {
     "data": {
      "text/plain": [
       "[0,\n",
       " 0.04,\n",
       " 0.07919999999999999,\n",
       " 0.117616,\n",
       " 0.15526368000000002,\n",
       " 0.1921584064,\n",
       " 0.228315238272,\n",
       " 0.26374893350656003,\n",
       " 0.29847395483642886,\n",
       " 0.33250447573970027,\n",
       " 0.3658543862249063,\n",
       " 0.39853729850040814,\n",
       " 0.4305665525304,\n",
       " 0.461955221479792,\n",
       " 0.4927161170501962,\n",
       " 0.5228617947091923,\n",
       " 0.5524045588150084,\n",
       " 0.5813564676387082,\n",
       " 0.609729338285934,\n",
       " 0.6375347515202153,\n",
       " 0.664784056489811,\n",
       " 0.6914883753600147,\n",
       " 0.7176586078528144,\n",
       " 0.7433054356957581,\n",
       " 0.768439326981843,\n",
       " 0.7930705404422062,\n",
       " 0.817209129633362,\n",
       " 0.8408649470406948,\n",
       " 0.8640476480998809,\n",
       " 0.8867666951378833,\n",
       " 0.9090313612351256,\n",
       " 0.9308507340104231,\n",
       " 0.9522337193302146,\n",
       " 0.9731890449436104,\n",
       " 0.9937252640447382,\n",
       " 1.0138507587638435,\n",
       " 1.0335737435885666,\n",
       " 1.0529022687167953,\n",
       " 1.0718442233424594,\n",
       " 1.0904073388756101,\n",
       " 1.108599192098098,\n",
       " 1.126427208256136,\n",
       " 1.1438986640910132,\n",
       " 1.161020690809193,\n",
       " 1.177800276993009,\n",
       " 1.1942442714531487,\n",
       " 1.2103593860240858,\n",
       " 1.2261521983036041,\n",
       " 1.241629154337532,\n",
       " 1.2567965712507814,\n",
       " 1.2716606398257657,\n",
       " 1.2862274270292504,\n",
       " 1.3005028784886654,\n",
       " 1.3144928209188922,\n",
       " 1.3282029645005144,\n",
       " 1.3416389052105042,\n",
       " 1.3548061271062941,\n",
       " 1.3677100045641681,\n",
       " 1.3803558044728848,\n",
       " 1.392748688383427,\n",
       " 1.4048937146157585,\n",
       " 1.4167958403234433,\n",
       " 1.4284599235169744,\n",
       " 1.4398907250466348,\n",
       " 1.4510929105457022,\n",
       " 1.4620710523347882,\n",
       " 1.4728296312880924,\n",
       " 1.4833730386623305,\n",
       " 1.493705577889084,\n",
       " 1.5038314663313024,\n",
       " 1.5137548370046763,\n",
       " 1.5234797402645828,\n",
       " 1.533010145459291,\n",
       " 1.5423499425501053,\n",
       " 1.5515029436991032,\n",
       " 1.5604728848251213,\n",
       " 1.5692634271286188,\n",
       " 1.5778781585860464,\n",
       " 1.5863205954143256,\n",
       " 1.594594183506039,\n",
       " 1.6027022998359184,\n",
       " 1.6106482538392,\n",
       " 1.618435288762416,\n",
       " 1.6260665829871677,\n",
       " 1.6335452513274242,\n",
       " 1.6408743463008757,\n",
       " 1.6480568593748581,\n",
       " 1.655095722187361,\n",
       " 1.6619938077436138,\n",
       " 1.6687539315887416,\n",
       " 1.6753788529569669,\n",
       " 1.6818712758978276,\n",
       " 1.688233850379871,\n",
       " 1.6944691733722737,\n",
       " 1.7005797899048283,\n",
       " 1.7065681941067317,\n",
       " 1.712436830224597,\n",
       " 1.718188093620105,\n",
       " 1.7238243317477029,\n",
       " 1.7293478451127489,\n",
       " 1.734760888210494,\n",
       " 1.740065670446284,\n",
       " 1.7452643570373583,\n",
       " 1.7503590698966112,\n",
       " 1.755351888498679,\n",
       " 1.7602448507287054,\n",
       " 1.7650399537141312,\n",
       " 1.7697391546398487,\n",
       " 1.7743443715470517,\n",
       " 1.7788574841161107,\n",
       " 1.7832803344337884,\n",
       " 1.7876147277451127,\n",
       " 1.7918624331902104,\n",
       " 1.7960251845264061,\n",
       " 1.800104680835878,\n",
       " 1.8041025872191605,\n",
       " 1.8080205354747774,\n",
       " 1.811860124765282,\n",
       " 1.8156229222699762,\n",
       " 1.8193104638245767,\n",
       " 1.8229242545480853,\n",
       " 1.8264657694571236,\n",
       " 1.829936454067981,\n",
       " 1.8333377249866214,\n",
       " 1.8366709704868889,\n",
       " 1.8399375510771512,\n",
       " 1.8431388000556082,\n",
       " 1.846276024054496,\n",
       " 1.8493505035734061,\n",
       " 1.852363493501938,\n",
       " 1.8553162236318992,\n",
       " 1.8582098991592613,\n",
       " 1.8610457011760762,\n",
       " 1.8638247871525546,\n",
       " 1.8665482914095035,\n",
       " 1.8692173255813134,\n",
       " 1.871832979069687,\n",
       " 1.8743963194882933,\n",
       " 1.8769083930985275,\n",
       " 1.879370225236557,\n",
       " 1.881782820731826,\n",
       " 1.8841471643171894,\n",
       " 1.8864642210308455,\n",
       " 1.8887349366102286,\n",
       " 1.8909602378780241,\n",
       " 1.8931410331204637,\n",
       " 1.8952782124580545,\n",
       " 1.8973726482088935,\n",
       " 1.8994251952447156,\n",
       " 1.9014366913398213,\n",
       " 1.903407957513025,\n",
       " 1.9053397983627645,\n",
       " 1.907233002395509,\n",
       " 1.9090883423475988,\n",
       " 1.910906575500647,\n",
       " 1.912688443990634,\n",
       " 1.9144346751108212,\n",
       " 1.9161459816086048,\n",
       " 1.9178230619764327,\n",
       " 1.9194666007369041,\n",
       " 1.921077268722166,\n",
       " 1.9226557233477226,\n",
       " 1.9242026088807682,\n",
       " 1.925718556703153,\n",
       " 1.9272041855690898,\n",
       " 1.928660101857708,\n",
       " 1.9300868998205538,\n",
       " 1.9314851618241426,\n",
       " 1.9328554585876598,\n",
       " 1.9341983494159067,\n",
       " 1.9355143824275887,\n",
       " 1.9368040947790368,\n",
       " 1.938068012883456,\n",
       " 1.939306652625787,\n",
       " 1.940520519573271,\n",
       " 1.9417101091818056,\n",
       " 1.9428759069981696,\n",
       " 1.944018388858206,\n",
       " 1.945138021081042,\n",
       " 1.9462352606594213,\n",
       " 1.9473105554462329,\n",
       " 1.9483643443373082,\n",
       " 1.9493970574505621,\n",
       " 1.950409116301551,\n",
       " 1.9514009339755198]"
      ]
     },
     "execution_count": 13,
     "metadata": {},
     "output_type": "execute_result"
    }
   ],
   "source": [
    "x_history"
   ]
  },
  {
   "cell_type": "markdown",
   "id": "d47a9ea5-7248-4812-8166-c1cd267f5be6",
   "metadata": {},
   "source": [
    "## Visualization"
   ]
  },
  {
   "cell_type": "code",
   "execution_count": 14,
   "id": "883bff3c-39bf-4262-8d39-aaf7cb6ce763",
   "metadata": {},
   "outputs": [
    {
     "data": {
      "image/png": "[encoded data removed]",
      "text/plain": [
       "<Figure size 432x288 with 1 Axes>"
      ]
     },
     "metadata": {
      "needs_background": "light"
     },
     "output_type": "display_data"
    }
   ],
   "source": [
    "x_vals = np.linspace(-1, 5, 100)\n",
    "\n",
    "plt.plot(x_vals, f(x_vals))\n",
    "plt.plot(x_history, f(np.array(x_history)),'-rx')\n",
    "\n",
    "plt.xlabel('X')\n",
    "plt.ylabel('y')\n",
    "plt.title('Gradient Descent')\n",
    "plt.show()"
   ]
  },
  {
   "cell_type": "code",
   "execution_count": null,
   "id": "78959600-994b-45be-ba9b-9fb350611f32",
   "metadata": {},
   "outputs": [],
   "source": []
  }
 ],
 "metadata": {
  "kernelspec": {
   "display_name": "Python 3",
   "language": "python",
   "name": "python3"
  },
  "language_info": {
   "codemirror_mode": {
    "name": "ipython",
    "version": 3
   },
   "file_extension": ".py",
   "mimetype": "text/x-python",
   "name": "python",
   "nbconvert_exporter": "python",
   "pygments_lexer": "ipython3",
   "version": "3.9.18"
  }
 },
 "nbformat": 4,
 "nbformat_minor": 5
}

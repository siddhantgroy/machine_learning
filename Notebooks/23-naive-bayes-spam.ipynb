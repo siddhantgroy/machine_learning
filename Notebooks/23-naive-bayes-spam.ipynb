{
 "cells": [
  {
   "cell_type": "markdown",
   "id": "b9f9beea-88b0-4c7a-99a3-16c9005e9689",
   "metadata": {},
   "source": [
    "# Naive Bayes - SMS SPAM Detection"
   ]
  },
  {
   "cell_type": "code",
   "execution_count": 1,
   "id": "c6bdfcd8-3f19-440c-8338-d89db749fd0f",
   "metadata": {},
   "outputs": [],
   "source": [
    "import pandas as pd"
   ]
  },
  {
   "cell_type": "markdown",
   "id": "83b1c6f8-3a78-448a-a989-10c541c4f001",
   "metadata": {},
   "source": [
    "## Loading Dataset"
   ]
  },
  {
   "cell_type": "code",
   "execution_count": 2,
   "id": "96c067b9-42a3-4d69-ba23-aad0b30a8b13",
   "metadata": {},
   "outputs": [
    {
     "data": {
      "text/html": [
       "<div>\n",
       "<style scoped>\n",
       "    .dataframe tbody tr th:only-of-type {\n",
       "        vertical-align: middle;\n",
       "    }\n",
       "\n",
       "    .dataframe tbody tr th {\n",
       "        vertical-align: top;\n",
       "    }\n",
       "\n",
       "    .dataframe thead th {\n",
       "        text-align: right;\n",
       "    }\n",
       "</style>\n",
       "<table border=\"1\" class=\"dataframe\">\n",
       "  <thead>\n",
       "    <tr style=\"text-align: right;\">\n",
       "      <th></th>\n",
       "      <th>y</th>\n",
       "      <th>sms</th>\n",
       "    </tr>\n",
       "  </thead>\n",
       "  <tbody>\n",
       "    <tr>\n",
       "      <th>0</th>\n",
       "      <td>ham</td>\n",
       "      <td>Go until jurong point, crazy.. Available only ...</td>\n",
       "    </tr>\n",
       "    <tr>\n",
       "      <th>1</th>\n",
       "      <td>ham</td>\n",
       "      <td>Ok lar... Joking wif u oni...</td>\n",
       "    </tr>\n",
       "    <tr>\n",
       "      <th>2</th>\n",
       "      <td>spam</td>\n",
       "      <td>Free entry in 2 a wkly comp to win FA Cup fina...</td>\n",
       "    </tr>\n",
       "    <tr>\n",
       "      <th>3</th>\n",
       "      <td>ham</td>\n",
       "      <td>U dun say so early hor... U c already then say...</td>\n",
       "    </tr>\n",
       "    <tr>\n",
       "      <th>4</th>\n",
       "      <td>ham</td>\n",
       "      <td>Nah I don't think he goes to usf, he lives aro...</td>\n",
       "    </tr>\n",
       "  </tbody>\n",
       "</table>\n",
       "</div>"
      ],
      "text/plain": [
       "      y                                                sms\n",
       "0   ham  Go until jurong point, crazy.. Available only ...\n",
       "1   ham                      Ok lar... Joking wif u oni...\n",
       "2  spam  Free entry in 2 a wkly comp to win FA Cup fina...\n",
       "3   ham  U dun say so early hor... U c already then say...\n",
       "4   ham  Nah I don't think he goes to usf, he lives aro..."
      ]
     },
     "execution_count": 2,
     "metadata": {},
     "output_type": "execute_result"
    }
   ],
   "source": [
    "# Source: https://archive.ics.uci.edu/dataset/228/sms+spam+collection\n",
    "\n",
    "df = pd.read_csv(\"../data/sms_spam_collection.csv\",\n",
    "                 delimiter = \"\\t\",\n",
    "                 header = None,\n",
    "                 names=[\"y\", \"sms\"])\n",
    "df.head()"
   ]
  },
  {
   "cell_type": "code",
   "execution_count": 3,
   "id": "d0c29b50-f4b9-4706-97e6-98eb8693dba6",
   "metadata": {},
   "outputs": [
    {
     "data": {
      "text/plain": [
       "(5572, 2)"
      ]
     },
     "execution_count": 3,
     "metadata": {},
     "output_type": "execute_result"
    }
   ],
   "source": [
    "df.shape"
   ]
  },
  {
   "cell_type": "markdown",
   "id": "4f6b583a-5638-48b1-bdce-5baaee5999eb",
   "metadata": {},
   "source": [
    "## Probability of Ham / Spam"
   ]
  },
  {
   "cell_type": "code",
   "execution_count": 4,
   "id": "caeb99a4-1dfd-4fe7-93a3-3d3322bdc6ee",
   "metadata": {},
   "outputs": [
    {
     "data": {
      "text/html": [
       "<div>\n",
       "<style scoped>\n",
       "    .dataframe tbody tr th:only-of-type {\n",
       "        vertical-align: middle;\n",
       "    }\n",
       "\n",
       "    .dataframe tbody tr th {\n",
       "        vertical-align: top;\n",
       "    }\n",
       "\n",
       "    .dataframe thead th {\n",
       "        text-align: right;\n",
       "    }\n",
       "</style>\n",
       "<table border=\"1\" class=\"dataframe\">\n",
       "  <thead>\n",
       "    <tr style=\"text-align: right;\">\n",
       "      <th></th>\n",
       "      <th>y</th>\n",
       "      <th>sms</th>\n",
       "    </tr>\n",
       "  </thead>\n",
       "  <tbody>\n",
       "    <tr>\n",
       "      <th>0</th>\n",
       "      <td>ham</td>\n",
       "      <td>4825</td>\n",
       "    </tr>\n",
       "    <tr>\n",
       "      <th>1</th>\n",
       "      <td>spam</td>\n",
       "      <td>747</td>\n",
       "    </tr>\n",
       "  </tbody>\n",
       "</table>\n",
       "</div>"
      ],
      "text/plain": [
       "      y   sms\n",
       "0   ham  4825\n",
       "1  spam   747"
      ]
     },
     "execution_count": 4,
     "metadata": {},
     "output_type": "execute_result"
    }
   ],
   "source": [
    "df_general = df.groupby(['y']).count().reset_index()\n",
    "df_general"
   ]
  },
  {
   "cell_type": "code",
   "execution_count": 5,
   "id": "698e9825-1c4b-411d-90fe-d652d2bc3e69",
   "metadata": {},
   "outputs": [
    {
     "name": "stdout",
     "output_type": "stream",
     "text": [
      "0.13406317300789664 0.8659368269921034\n"
     ]
    }
   ],
   "source": [
    "p_spam = 747 / 5572\n",
    "p_ham = 4825 / 5572\n",
    "\n",
    "print(p_spam, p_ham)"
   ]
  },
  {
   "cell_type": "code",
   "execution_count": 6,
   "id": "ec0217ce-89f6-4838-a235-5b2a3cfee133",
   "metadata": {},
   "outputs": [],
   "source": [
    "total_spam = df_general.loc[df_general[\"y\"] == 'spam', 'sms'].values[0]\n",
    "total_ham = df_general.loc[df_general[\"y\"] == 'ham', 'sms'].values[0]"
   ]
  },
  {
   "cell_type": "code",
   "execution_count": 7,
   "id": "bd5d1aa8-b991-435b-9c14-10d07d92fbb6",
   "metadata": {},
   "outputs": [
    {
     "name": "stdout",
     "output_type": "stream",
     "text": [
      "0.13406317300789664 0.8659368269921034\n"
     ]
    }
   ],
   "source": [
    "p_spam = total_spam / df.shape[0]\n",
    "p_ham = total_ham / df.shape[0]\n",
    "\n",
    "print(p_spam, p_ham)"
   ]
  },
  {
   "cell_type": "markdown",
   "id": "ff067df8-191a-449e-bffd-5ea3f156e2d8",
   "metadata": {},
   "source": [
    "## Text Preparation"
   ]
  },
  {
   "cell_type": "markdown",
   "id": "dafbcaf8-ba42-497d-9ead-43146ec1ea02",
   "metadata": {},
   "source": [
    "### Converting to Lower Case"
   ]
  },
  {
   "cell_type": "code",
   "execution_count": 8,
   "id": "9bc62b41-0519-427d-88b0-22d2db993eb3",
   "metadata": {},
   "outputs": [
    {
     "name": "stderr",
     "output_type": "stream",
     "text": [
      "<ipython-input-8-578a949386c2>:1: FutureWarning: DataFrame.applymap has been deprecated. Use DataFrame.map instead.\n",
      "  df = df.applymap(lambda x: x.lower() if isinstance(x, str) else x)\n"
     ]
    },
    {
     "data": {
      "text/html": [
       "<div>\n",
       "<style scoped>\n",
       "    .dataframe tbody tr th:only-of-type {\n",
       "        vertical-align: middle;\n",
       "    }\n",
       "\n",
       "    .dataframe tbody tr th {\n",
       "        vertical-align: top;\n",
       "    }\n",
       "\n",
       "    .dataframe thead th {\n",
       "        text-align: right;\n",
       "    }\n",
       "</style>\n",
       "<table border=\"1\" class=\"dataframe\">\n",
       "  <thead>\n",
       "    <tr style=\"text-align: right;\">\n",
       "      <th></th>\n",
       "      <th>y</th>\n",
       "      <th>sms</th>\n",
       "    </tr>\n",
       "  </thead>\n",
       "  <tbody>\n",
       "    <tr>\n",
       "      <th>0</th>\n",
       "      <td>ham</td>\n",
       "      <td>go until jurong point, crazy.. available only ...</td>\n",
       "    </tr>\n",
       "    <tr>\n",
       "      <th>1</th>\n",
       "      <td>ham</td>\n",
       "      <td>ok lar... joking wif u oni...</td>\n",
       "    </tr>\n",
       "    <tr>\n",
       "      <th>2</th>\n",
       "      <td>spam</td>\n",
       "      <td>free entry in 2 a wkly comp to win fa cup fina...</td>\n",
       "    </tr>\n",
       "    <tr>\n",
       "      <th>3</th>\n",
       "      <td>ham</td>\n",
       "      <td>u dun say so early hor... u c already then say...</td>\n",
       "    </tr>\n",
       "    <tr>\n",
       "      <th>4</th>\n",
       "      <td>ham</td>\n",
       "      <td>nah i don't think he goes to usf, he lives aro...</td>\n",
       "    </tr>\n",
       "  </tbody>\n",
       "</table>\n",
       "</div>"
      ],
      "text/plain": [
       "      y                                                sms\n",
       "0   ham  go until jurong point, crazy.. available only ...\n",
       "1   ham                      ok lar... joking wif u oni...\n",
       "2  spam  free entry in 2 a wkly comp to win fa cup fina...\n",
       "3   ham  u dun say so early hor... u c already then say...\n",
       "4   ham  nah i don't think he goes to usf, he lives aro..."
      ]
     },
     "execution_count": 8,
     "metadata": {},
     "output_type": "execute_result"
    }
   ],
   "source": [
    "df = df.applymap(lambda x: x.lower() if isinstance(x, str) else x)\n",
    "df.head()"
   ]
  },
  {
   "cell_type": "markdown",
   "id": "7d056cc6-3f31-4e3a-b5d9-e4d4c81f0c70",
   "metadata": {},
   "source": [
    "### Removing Special Characters"
   ]
  },
  {
   "cell_type": "code",
   "execution_count": 9,
   "id": "0608993d-b426-4fc4-8787-c55ecd9c6d16",
   "metadata": {},
   "outputs": [
    {
     "data": {
      "text/html": [
       "<div>\n",
       "<style scoped>\n",
       "    .dataframe tbody tr th:only-of-type {\n",
       "        vertical-align: middle;\n",
       "    }\n",
       "\n",
       "    .dataframe tbody tr th {\n",
       "        vertical-align: top;\n",
       "    }\n",
       "\n",
       "    .dataframe thead th {\n",
       "        text-align: right;\n",
       "    }\n",
       "</style>\n",
       "<table border=\"1\" class=\"dataframe\">\n",
       "  <thead>\n",
       "    <tr style=\"text-align: right;\">\n",
       "      <th></th>\n",
       "      <th>y</th>\n",
       "      <th>sms</th>\n",
       "    </tr>\n",
       "  </thead>\n",
       "  <tbody>\n",
       "    <tr>\n",
       "      <th>3580</th>\n",
       "      <td>ham</td>\n",
       "      <td>multiply the numbers independently and count d...</td>\n",
       "    </tr>\n",
       "    <tr>\n",
       "      <th>2754</th>\n",
       "      <td>ham</td>\n",
       "      <td>derp which is worse a dude who always wants to...</td>\n",
       "    </tr>\n",
       "    <tr>\n",
       "      <th>5467</th>\n",
       "      <td>spam</td>\n",
       "      <td>get your garden ready for summer with a free s...</td>\n",
       "    </tr>\n",
       "    <tr>\n",
       "      <th>926</th>\n",
       "      <td>ham</td>\n",
       "      <td>k wait chikkuil send aftr  ltgt mins</td>\n",
       "    </tr>\n",
       "    <tr>\n",
       "      <th>640</th>\n",
       "      <td>ham</td>\n",
       "      <td>i had askd u a question some hours before its ...</td>\n",
       "    </tr>\n",
       "    <tr>\n",
       "      <th>2938</th>\n",
       "      <td>ham</td>\n",
       "      <td>lol yep did that yesterday already got my fire...</td>\n",
       "    </tr>\n",
       "    <tr>\n",
       "      <th>333</th>\n",
       "      <td>spam</td>\n",
       "      <td>call germany for only 1 pence per minute call ...</td>\n",
       "    </tr>\n",
       "    <tr>\n",
       "      <th>4340</th>\n",
       "      <td>ham</td>\n",
       "      <td>just got outta class gonna go gym</td>\n",
       "    </tr>\n",
       "    <tr>\n",
       "      <th>3011</th>\n",
       "      <td>ham</td>\n",
       "      <td>imagine life without me see how fast u are sea...</td>\n",
       "    </tr>\n",
       "    <tr>\n",
       "      <th>1730</th>\n",
       "      <td>ham</td>\n",
       "      <td>lol yeah at this point i guess not</td>\n",
       "    </tr>\n",
       "  </tbody>\n",
       "</table>\n",
       "</div>"
      ],
      "text/plain": [
       "         y                                                sms\n",
       "3580   ham  multiply the numbers independently and count d...\n",
       "2754   ham  derp which is worse a dude who always wants to...\n",
       "5467  spam  get your garden ready for summer with a free s...\n",
       "926    ham               k wait chikkuil send aftr  ltgt mins\n",
       "640    ham  i had askd u a question some hours before its ...\n",
       "2938   ham  lol yep did that yesterday already got my fire...\n",
       "333   spam  call germany for only 1 pence per minute call ...\n",
       "4340   ham                  just got outta class gonna go gym\n",
       "3011   ham  imagine life without me see how fast u are sea...\n",
       "1730   ham                 lol yeah at this point i guess not"
      ]
     },
     "execution_count": 9,
     "metadata": {},
     "output_type": "execute_result"
    }
   ],
   "source": [
    "df[\"sms\"] = df[\"sms\"].str.replace(\"[^a-z 0-9]+\", \"\", regex=True)\n",
    "df.sample(10)"
   ]
  },
  {
   "cell_type": "markdown",
   "id": "8ae64796-996c-443b-ba1c-789b452347dd",
   "metadata": {},
   "source": [
    "### Tokenizing, Stemming, Lemmatizing, Removing Stopwords"
   ]
  },
  {
   "cell_type": "code",
   "execution_count": 10,
   "id": "b513e654-a45b-4933-a1b3-576a693b067e",
   "metadata": {},
   "outputs": [],
   "source": [
    "from nltk.tokenize import RegexpTokenizer\n",
    "from nltk.stem import WordNetLemmatizer,PorterStemmer\n",
    "from nltk.corpus import stopwords"
   ]
  },
  {
   "cell_type": "code",
   "execution_count": 11,
   "id": "b319f1dd-8470-4712-ab60-ea26b2026bad",
   "metadata": {},
   "outputs": [
    {
     "name": "stdout",
     "output_type": "stream",
     "text": [
      "['i', 'me', 'my', 'myself', 'we', 'our', 'ours', 'ourselves', 'you', \"you're\", \"you've\", \"you'll\", \"you'd\", 'your', 'yours', 'yourself', 'yourselves', 'he', 'him', 'his', 'himself', 'she', \"she's\", 'her', 'hers', 'herself', 'it', \"it's\", 'its', 'itself', 'they', 'them', 'their', 'theirs', 'themselves', 'what', 'which', 'who', 'whom', 'this', 'that', \"that'll\", 'these', 'those', 'am', 'is', 'are', 'was', 'were', 'be', 'been', 'being', 'have', 'has', 'had', 'having', 'do', 'does', 'did', 'doing', 'a', 'an', 'the', 'and', 'but', 'if', 'or', 'because', 'as', 'until', 'while', 'of', 'at', 'by', 'for', 'with', 'about', 'against', 'between', 'into', 'through', 'during', 'before', 'after', 'above', 'below', 'to', 'from', 'up', 'down', 'in', 'out', 'on', 'off', 'over', 'under', 'again', 'further', 'then', 'once', 'here', 'there', 'when', 'where', 'why', 'how', 'all', 'any', 'both', 'each', 'few', 'more', 'most', 'other', 'some', 'such', 'no', 'nor', 'not', 'only', 'own', 'same', 'so', 'than', 'too', 'very', 's', 't', 'can', 'will', 'just', 'don', \"don't\", 'should', \"should've\", 'now', 'd', 'll', 'm', 'o', 're', 've', 'y', 'ain', 'aren', \"aren't\", 'couldn', \"couldn't\", 'didn', \"didn't\", 'doesn', \"doesn't\", 'hadn', \"hadn't\", 'hasn', \"hasn't\", 'haven', \"haven't\", 'isn', \"isn't\", 'ma', 'mightn', \"mightn't\", 'mustn', \"mustn't\", 'needn', \"needn't\", 'shan', \"shan't\", 'shouldn', \"shouldn't\", 'wasn', \"wasn't\", 'weren', \"weren't\", 'won', \"won't\", 'wouldn', \"wouldn't\"]\n"
     ]
    }
   ],
   "source": [
    "stops = stopwords.words('english')\n",
    "print(stops)"
   ]
  },
  {
   "cell_type": "code",
   "execution_count": 12,
   "id": "64d0b25f-7532-4ed6-a929-d3847f26648d",
   "metadata": {},
   "outputs": [],
   "source": [
    "lemmatizer = WordNetLemmatizer()\n",
    "stemmer = PorterStemmer()\n",
    "\n",
    "def preprocess(sentence):\n",
    "    tokenizer = RegexpTokenizer(r'\\w+')\n",
    "    tokens = tokenizer.tokenize(sentence)\n",
    "    \n",
    "    filtered_words = [w for w in tokens if len(w) > 2 if not w in stopwords.words('english')]\n",
    "    stem_words=[stemmer.stem(w) for w in filtered_words]\n",
    "    lemma_words=[lemmatizer.lemmatize(w) for w in stem_words]\n",
    "    return \" \".join(lemma_words)\n",
    "\n",
    "df['sms'] = df['sms'].map(lambda s:preprocess(s)) "
   ]
  },
  {
   "cell_type": "code",
   "execution_count": 13,
   "id": "85438224-a698-4c23-b7d8-b616c95abcdd",
   "metadata": {},
   "outputs": [
    {
     "data": {
      "text/html": [
       "<div>\n",
       "<style scoped>\n",
       "    .dataframe tbody tr th:only-of-type {\n",
       "        vertical-align: middle;\n",
       "    }\n",
       "\n",
       "    .dataframe tbody tr th {\n",
       "        vertical-align: top;\n",
       "    }\n",
       "\n",
       "    .dataframe thead th {\n",
       "        text-align: right;\n",
       "    }\n",
       "</style>\n",
       "<table border=\"1\" class=\"dataframe\">\n",
       "  <thead>\n",
       "    <tr style=\"text-align: right;\">\n",
       "      <th></th>\n",
       "      <th>y</th>\n",
       "      <th>sms</th>\n",
       "    </tr>\n",
       "  </thead>\n",
       "  <tbody>\n",
       "    <tr>\n",
       "      <th>3792</th>\n",
       "      <td>spam</td>\n",
       "      <td>twink bear scalli skin jock call dont miss wee...</td>\n",
       "    </tr>\n",
       "    <tr>\n",
       "      <th>3284</th>\n",
       "      <td>ham</td>\n",
       "      <td>hey tmr mayb meet yck</td>\n",
       "    </tr>\n",
       "    <tr>\n",
       "      <th>2851</th>\n",
       "      <td>ham</td>\n",
       "      <td>she fine good hear dear happi new year</td>\n",
       "    </tr>\n",
       "    <tr>\n",
       "      <th>5107</th>\n",
       "      <td>ham</td>\n",
       "      <td>realli need kiss miss babi babi 4eva</td>\n",
       "    </tr>\n",
       "    <tr>\n",
       "      <th>5172</th>\n",
       "      <td>ham</td>\n",
       "      <td>aight text tonight well see what</td>\n",
       "    </tr>\n",
       "    <tr>\n",
       "      <th>326</th>\n",
       "      <td>ham</td>\n",
       "      <td>callsmessagesmiss call</td>\n",
       "    </tr>\n",
       "    <tr>\n",
       "      <th>4143</th>\n",
       "      <td>ham</td>\n",
       "      <td>infact happi new year see</td>\n",
       "    </tr>\n",
       "    <tr>\n",
       "      <th>5507</th>\n",
       "      <td>ham</td>\n",
       "      <td>want insid everi night</td>\n",
       "    </tr>\n",
       "    <tr>\n",
       "      <th>777</th>\n",
       "      <td>ham</td>\n",
       "      <td>dont tell friend your sure want live smoke muc...</td>\n",
       "    </tr>\n",
       "    <tr>\n",
       "      <th>4074</th>\n",
       "      <td>ham</td>\n",
       "      <td>actual exam harder nbme</td>\n",
       "    </tr>\n",
       "  </tbody>\n",
       "</table>\n",
       "</div>"
      ],
      "text/plain": [
       "         y                                                sms\n",
       "3792  spam  twink bear scalli skin jock call dont miss wee...\n",
       "3284   ham                              hey tmr mayb meet yck\n",
       "2851   ham             she fine good hear dear happi new year\n",
       "5107   ham               realli need kiss miss babi babi 4eva\n",
       "5172   ham                   aight text tonight well see what\n",
       "326    ham                             callsmessagesmiss call\n",
       "4143   ham                          infact happi new year see\n",
       "5507   ham                             want insid everi night\n",
       "777    ham  dont tell friend your sure want live smoke muc...\n",
       "4074   ham                            actual exam harder nbme"
      ]
     },
     "execution_count": 13,
     "metadata": {},
     "output_type": "execute_result"
    }
   ],
   "source": [
    "df.sample(10)"
   ]
  },
  {
   "cell_type": "markdown",
   "id": "0fab0e91-8d90-4090-ac69-19f94e5f97a6",
   "metadata": {},
   "source": [
    "## Retrieving Unique Words"
   ]
  },
  {
   "cell_type": "code",
   "execution_count": 32,
   "id": "616f43ca-16bd-4c0d-aa69-b2fc8ab5ab3f",
   "metadata": {},
   "outputs": [
    {
     "data": {
      "text/plain": [
       "array(['jurong', 'point', 'crazi', ..., 'now1', 'piti', 'soani'],\n",
       "      dtype=object)"
      ]
     },
     "execution_count": 32,
     "metadata": {},
     "output_type": "execute_result"
    }
   ],
   "source": [
    "words = df['sms'].str.split().explode().drop_duplicates().values\n",
    "words"
   ]
  },
  {
   "cell_type": "code",
   "execution_count": 33,
   "id": "c088fb9a-a970-4787-9698-ddb97bb8fa8d",
   "metadata": {},
   "outputs": [
    {
     "data": {
      "text/plain": [
       "7853"
      ]
     },
     "execution_count": 33,
     "metadata": {},
     "output_type": "execute_result"
    }
   ],
   "source": [
    "len(words)"
   ]
  },
  {
   "cell_type": "markdown",
   "id": "f7ca76ca-c9e3-4407-b422-3148beb1b9b5",
   "metadata": {},
   "source": [
    "### Counting Words"
   ]
  },
  {
   "cell_type": "code",
   "execution_count": 34,
   "id": "02a24d07-4e44-4c43-84a9-2cc6887baf53",
   "metadata": {},
   "outputs": [
    {
     "data": {
      "text/html": [
       "<div>\n",
       "<style scoped>\n",
       "    .dataframe tbody tr th:only-of-type {\n",
       "        vertical-align: middle;\n",
       "    }\n",
       "\n",
       "    .dataframe tbody tr th {\n",
       "        vertical-align: top;\n",
       "    }\n",
       "\n",
       "    .dataframe thead th {\n",
       "        text-align: right;\n",
       "    }\n",
       "</style>\n",
       "<table border=\"1\" class=\"dataframe\">\n",
       "  <thead>\n",
       "    <tr style=\"text-align: right;\">\n",
       "      <th></th>\n",
       "      <th>sms</th>\n",
       "      <th>y</th>\n",
       "      <th>0</th>\n",
       "    </tr>\n",
       "  </thead>\n",
       "  <tbody>\n",
       "    <tr>\n",
       "      <th>0</th>\n",
       "      <td>008704050406</td>\n",
       "      <td>spam</td>\n",
       "      <td>2</td>\n",
       "    </tr>\n",
       "    <tr>\n",
       "      <th>1</th>\n",
       "      <td>0089mi</td>\n",
       "      <td>spam</td>\n",
       "      <td>1</td>\n",
       "    </tr>\n",
       "    <tr>\n",
       "      <th>2</th>\n",
       "      <td>0121</td>\n",
       "      <td>spam</td>\n",
       "      <td>1</td>\n",
       "    </tr>\n",
       "    <tr>\n",
       "      <th>3</th>\n",
       "      <td>01223585236</td>\n",
       "      <td>spam</td>\n",
       "      <td>1</td>\n",
       "    </tr>\n",
       "    <tr>\n",
       "      <th>4</th>\n",
       "      <td>01223585334</td>\n",
       "      <td>spam</td>\n",
       "      <td>2</td>\n",
       "    </tr>\n",
       "    <tr>\n",
       "      <th>...</th>\n",
       "      <td>...</td>\n",
       "      <td>...</td>\n",
       "      <td>...</td>\n",
       "    </tr>\n",
       "    <tr>\n",
       "      <th>8665</th>\n",
       "      <td>zoe</td>\n",
       "      <td>spam</td>\n",
       "      <td>1</td>\n",
       "    </tr>\n",
       "    <tr>\n",
       "      <th>8666</th>\n",
       "      <td>zogtoriu</td>\n",
       "      <td>ham</td>\n",
       "      <td>1</td>\n",
       "    </tr>\n",
       "    <tr>\n",
       "      <th>8667</th>\n",
       "      <td>zoom</td>\n",
       "      <td>ham</td>\n",
       "      <td>1</td>\n",
       "    </tr>\n",
       "    <tr>\n",
       "      <th>8668</th>\n",
       "      <td>zouk</td>\n",
       "      <td>spam</td>\n",
       "      <td>1</td>\n",
       "    </tr>\n",
       "    <tr>\n",
       "      <th>8669</th>\n",
       "      <td>zyada</td>\n",
       "      <td>ham</td>\n",
       "      <td>1</td>\n",
       "    </tr>\n",
       "  </tbody>\n",
       "</table>\n",
       "<p>8670 rows × 3 columns</p>\n",
       "</div>"
      ],
      "text/plain": [
       "               sms     y  0\n",
       "0     008704050406  spam  2\n",
       "1           0089mi  spam  1\n",
       "2             0121  spam  1\n",
       "3      01223585236  spam  1\n",
       "4      01223585334  spam  2\n",
       "...            ...   ... ..\n",
       "8665           zoe  spam  1\n",
       "8666      zogtoriu   ham  1\n",
       "8667          zoom   ham  1\n",
       "8668          zouk  spam  1\n",
       "8669         zyada   ham  1\n",
       "\n",
       "[8670 rows x 3 columns]"
      ]
     },
     "execution_count": 34,
     "metadata": {},
     "output_type": "execute_result"
    }
   ],
   "source": [
    "df_count = df.set_index('y')['sms'].str.split().explode().reset_index().groupby(['sms', 'y']).size().to_frame()\n",
    "df_count = df_count.reset_index()\n",
    "df_count"
   ]
  },
  {
   "cell_type": "code",
   "execution_count": 35,
   "id": "2f25d77a-d2bb-4e4f-896d-a729970cddd1",
   "metadata": {},
   "outputs": [
    {
     "data": {
      "text/html": [
       "<div>\n",
       "<style scoped>\n",
       "    .dataframe tbody tr th:only-of-type {\n",
       "        vertical-align: middle;\n",
       "    }\n",
       "\n",
       "    .dataframe tbody tr th {\n",
       "        vertical-align: top;\n",
       "    }\n",
       "\n",
       "    .dataframe thead th {\n",
       "        text-align: right;\n",
       "    }\n",
       "</style>\n",
       "<table border=\"1\" class=\"dataframe\">\n",
       "  <thead>\n",
       "    <tr style=\"text-align: right;\">\n",
       "      <th></th>\n",
       "      <th>0</th>\n",
       "    </tr>\n",
       "  </thead>\n",
       "  <tbody>\n",
       "    <tr>\n",
       "      <th>count</th>\n",
       "      <td>8670.00000</td>\n",
       "    </tr>\n",
       "    <tr>\n",
       "      <th>mean</th>\n",
       "      <td>5.34579</td>\n",
       "    </tr>\n",
       "    <tr>\n",
       "      <th>std</th>\n",
       "      <td>16.90067</td>\n",
       "    </tr>\n",
       "    <tr>\n",
       "      <th>min</th>\n",
       "      <td>1.00000</td>\n",
       "    </tr>\n",
       "    <tr>\n",
       "      <th>25%</th>\n",
       "      <td>1.00000</td>\n",
       "    </tr>\n",
       "    <tr>\n",
       "      <th>50%</th>\n",
       "      <td>1.00000</td>\n",
       "    </tr>\n",
       "    <tr>\n",
       "      <th>75%</th>\n",
       "      <td>3.00000</td>\n",
       "    </tr>\n",
       "    <tr>\n",
       "      <th>max</th>\n",
       "      <td>366.00000</td>\n",
       "    </tr>\n",
       "  </tbody>\n",
       "</table>\n",
       "</div>"
      ],
      "text/plain": [
       "                0\n",
       "count  8670.00000\n",
       "mean      5.34579\n",
       "std      16.90067\n",
       "min       1.00000\n",
       "25%       1.00000\n",
       "50%       1.00000\n",
       "75%       3.00000\n",
       "max     366.00000"
      ]
     },
     "execution_count": 35,
     "metadata": {},
     "output_type": "execute_result"
    }
   ],
   "source": [
    "df_count.describe()"
   ]
  },
  {
   "cell_type": "code",
   "execution_count": 36,
   "id": "fa7d52b6-6ecb-4dc9-bd33-1d3c0dd74235",
   "metadata": {},
   "outputs": [
    {
     "data": {
      "text/html": [
       "<div>\n",
       "<style scoped>\n",
       "    .dataframe tbody tr th:only-of-type {\n",
       "        vertical-align: middle;\n",
       "    }\n",
       "\n",
       "    .dataframe tbody tr th {\n",
       "        vertical-align: top;\n",
       "    }\n",
       "\n",
       "    .dataframe thead th {\n",
       "        text-align: right;\n",
       "    }\n",
       "</style>\n",
       "<table border=\"1\" class=\"dataframe\">\n",
       "  <thead>\n",
       "    <tr style=\"text-align: right;\">\n",
       "      <th></th>\n",
       "      <th>sms</th>\n",
       "      <th>y</th>\n",
       "      <th>0</th>\n",
       "    </tr>\n",
       "  </thead>\n",
       "  <tbody>\n",
       "    <tr>\n",
       "      <th>1832</th>\n",
       "      <td>call</td>\n",
       "      <td>spam</td>\n",
       "      <td>366</td>\n",
       "    </tr>\n",
       "  </tbody>\n",
       "</table>\n",
       "</div>"
      ],
      "text/plain": [
       "       sms     y    0\n",
       "1832  call  spam  366"
      ]
     },
     "execution_count": 36,
     "metadata": {},
     "output_type": "execute_result"
    }
   ],
   "source": [
    "df_count[df_count[0] == 366]"
   ]
  },
  {
   "cell_type": "markdown",
   "id": "c9ec5f67-6464-4392-bd23-73760e9c8c65",
   "metadata": {},
   "source": [
    "### Calculating Probabilities"
   ]
  },
  {
   "cell_type": "code",
   "execution_count": 37,
   "id": "10c10d07-67ae-4061-afdf-d95eff56af86",
   "metadata": {},
   "outputs": [
    {
     "data": {
      "text/html": [
       "<div>\n",
       "<style scoped>\n",
       "    .dataframe tbody tr th:only-of-type {\n",
       "        vertical-align: middle;\n",
       "    }\n",
       "\n",
       "    .dataframe tbody tr th {\n",
       "        vertical-align: top;\n",
       "    }\n",
       "\n",
       "    .dataframe thead th {\n",
       "        text-align: right;\n",
       "    }\n",
       "</style>\n",
       "<table border=\"1\" class=\"dataframe\">\n",
       "  <thead>\n",
       "    <tr style=\"text-align: right;\">\n",
       "      <th></th>\n",
       "      <th>word</th>\n",
       "      <th>prob_ham</th>\n",
       "      <th>prob_spam</th>\n",
       "    </tr>\n",
       "  </thead>\n",
       "  <tbody>\n",
       "    <tr>\n",
       "      <th>1260</th>\n",
       "      <td>jstfrnd</td>\n",
       "      <td>0.000622</td>\n",
       "      <td>0.001339</td>\n",
       "    </tr>\n",
       "    <tr>\n",
       "      <th>6968</th>\n",
       "      <td>ger</td>\n",
       "      <td>0.000207</td>\n",
       "      <td>0.001339</td>\n",
       "    </tr>\n",
       "    <tr>\n",
       "      <th>4419</th>\n",
       "      <td>box61m60</td>\n",
       "      <td>0.000207</td>\n",
       "      <td>0.001339</td>\n",
       "    </tr>\n",
       "    <tr>\n",
       "      <th>7543</th>\n",
       "      <td>sday</td>\n",
       "      <td>0.000207</td>\n",
       "      <td>0.001339</td>\n",
       "    </tr>\n",
       "    <tr>\n",
       "      <th>7802</th>\n",
       "      <td>identif</td>\n",
       "      <td>0.000207</td>\n",
       "      <td>0.001339</td>\n",
       "    </tr>\n",
       "    <tr>\n",
       "      <th>20</th>\n",
       "      <td>win</td>\n",
       "      <td>0.003938</td>\n",
       "      <td>0.081660</td>\n",
       "    </tr>\n",
       "    <tr>\n",
       "      <th>3096</th>\n",
       "      <td>survey</td>\n",
       "      <td>0.000207</td>\n",
       "      <td>0.001339</td>\n",
       "    </tr>\n",
       "    <tr>\n",
       "      <th>2752</th>\n",
       "      <td>bleh</td>\n",
       "      <td>0.000415</td>\n",
       "      <td>0.001339</td>\n",
       "    </tr>\n",
       "    <tr>\n",
       "      <th>1465</th>\n",
       "      <td>6month</td>\n",
       "      <td>0.000207</td>\n",
       "      <td>0.002677</td>\n",
       "    </tr>\n",
       "    <tr>\n",
       "      <th>1393</th>\n",
       "      <td>cashbal</td>\n",
       "      <td>0.000207</td>\n",
       "      <td>0.009371</td>\n",
       "    </tr>\n",
       "  </tbody>\n",
       "</table>\n",
       "</div>"
      ],
      "text/plain": [
       "          word  prob_ham  prob_spam\n",
       "1260   jstfrnd  0.000622   0.001339\n",
       "6968       ger  0.000207   0.001339\n",
       "4419  box61m60  0.000207   0.001339\n",
       "7543      sday  0.000207   0.001339\n",
       "7802   identif  0.000207   0.001339\n",
       "20         win  0.003938   0.081660\n",
       "3096    survey  0.000207   0.001339\n",
       "2752      bleh  0.000415   0.001339\n",
       "1465    6month  0.000207   0.002677\n",
       "1393   cashbal  0.000207   0.009371"
      ]
     },
     "execution_count": 37,
     "metadata": {},
     "output_type": "execute_result"
    }
   ],
   "source": [
    "columns=['word', 'prob_ham', 'prob_spam']\n",
    "df_p = pd.DataFrame(data=None, columns=columns)\n",
    "\n",
    "for word in words:\n",
    "    entry = []\n",
    "    df_word = df_count[df_count[\"sms\"] == word]\n",
    "    if df_word.shape[0] > 0:\n",
    "        count_word_spam = df_word.loc[df_word['y'] == 'spam', 0].values\n",
    "        count_word_ham = df_word.loc[df_word['y'] == 'ham', 0].values\n",
    "        \n",
    "        if len(count_word_spam) > 0:\n",
    "            count_word_spam = count_word_spam[0]\n",
    "        else:\n",
    "            count_word_spam = 1\n",
    "            \n",
    "        if len(count_word_ham) > 0:\n",
    "            count_word_ham = count_word_ham[0]\n",
    "        else:\n",
    "            count_word_ham = 1\n",
    "                    \n",
    "        p_word_ham = count_word_ham / total_ham\n",
    "        p_word_spam = count_word_spam / total_spam\n",
    "        \n",
    "        entry = [word, p_word_ham, p_word_spam]\n",
    "        \n",
    "        df_entry = pd.DataFrame(data=[entry], columns=columns)\n",
    "        if df_p.shape[0] > 0:\n",
    "            df_p = pd.concat([df_p, df_entry])\n",
    "        else:\n",
    "            df_p = df_entry\n",
    "\n",
    "df_p = df_p.reset_index(drop=True)\n",
    "df_p.sample(10)"
   ]
  },
  {
   "cell_type": "code",
   "execution_count": 38,
   "id": "6ee4bc04-1b6e-4866-b275-3b2833be4038",
   "metadata": {},
   "outputs": [],
   "source": [
    "# these are the main components of the classifier that we need to store\n",
    "# this is basically the model of naive bayes classifier\n",
    "\n",
    "classifer_data = {\"df\": df_p, \"p_ham\": p_ham, \"p_spam\": p_spam}"
   ]
  },
  {
   "cell_type": "code",
   "execution_count": 39,
   "id": "72502053-7ec8-4b51-9e38-82b49b28f361",
   "metadata": {},
   "outputs": [
    {
     "data": {
      "text/html": [
       "<div>\n",
       "<style scoped>\n",
       "    .dataframe tbody tr th:only-of-type {\n",
       "        vertical-align: middle;\n",
       "    }\n",
       "\n",
       "    .dataframe tbody tr th {\n",
       "        vertical-align: top;\n",
       "    }\n",
       "\n",
       "    .dataframe thead th {\n",
       "        text-align: right;\n",
       "    }\n",
       "</style>\n",
       "<table border=\"1\" class=\"dataframe\">\n",
       "  <thead>\n",
       "    <tr style=\"text-align: right;\">\n",
       "      <th></th>\n",
       "      <th>prob_ham</th>\n",
       "      <th>prob_spam</th>\n",
       "    </tr>\n",
       "  </thead>\n",
       "  <tbody>\n",
       "    <tr>\n",
       "      <th>count</th>\n",
       "      <td>7852.000000</td>\n",
       "      <td>7852.000000</td>\n",
       "    </tr>\n",
       "    <tr>\n",
       "      <th>mean</th>\n",
       "      <td>0.000972</td>\n",
       "      <td>0.002822</td>\n",
       "    </tr>\n",
       "    <tr>\n",
       "      <th>std</th>\n",
       "      <td>0.003375</td>\n",
       "      <td>0.010043</td>\n",
       "    </tr>\n",
       "    <tr>\n",
       "      <th>min</th>\n",
       "      <td>0.000207</td>\n",
       "      <td>0.001339</td>\n",
       "    </tr>\n",
       "    <tr>\n",
       "      <th>25%</th>\n",
       "      <td>0.000207</td>\n",
       "      <td>0.001339</td>\n",
       "    </tr>\n",
       "    <tr>\n",
       "      <th>50%</th>\n",
       "      <td>0.000207</td>\n",
       "      <td>0.001339</td>\n",
       "    </tr>\n",
       "    <tr>\n",
       "      <th>75%</th>\n",
       "      <td>0.000415</td>\n",
       "      <td>0.001339</td>\n",
       "    </tr>\n",
       "    <tr>\n",
       "      <th>max</th>\n",
       "      <td>0.074611</td>\n",
       "      <td>0.489960</td>\n",
       "    </tr>\n",
       "  </tbody>\n",
       "</table>\n",
       "</div>"
      ],
      "text/plain": [
       "          prob_ham    prob_spam\n",
       "count  7852.000000  7852.000000\n",
       "mean      0.000972     0.002822\n",
       "std       0.003375     0.010043\n",
       "min       0.000207     0.001339\n",
       "25%       0.000207     0.001339\n",
       "50%       0.000207     0.001339\n",
       "75%       0.000415     0.001339\n",
       "max       0.074611     0.489960"
      ]
     },
     "execution_count": 39,
     "metadata": {},
     "output_type": "execute_result"
    }
   ],
   "source": [
    "df_p.describe()"
   ]
  },
  {
   "cell_type": "markdown",
   "id": "e0508672-820f-49c2-88ea-2b8d5338bbc6",
   "metadata": {},
   "source": [
    "## Testing / Classification"
   ]
  },
  {
   "cell_type": "code",
   "execution_count": 40,
   "id": "4e19160b-00ad-410c-a209-1c4f020bf9d9",
   "metadata": {},
   "outputs": [
    {
     "name": "stdout",
     "output_type": "stream",
     "text": [
      "[['ham', 'that good need drug']]\n"
     ]
    }
   ],
   "source": [
    "df_sample = df.sample(1).values.tolist()\n",
    "query = df_sample[0][1]\n",
    "actual_class = df_sample[0][0]\n",
    "\n",
    "print(df_sample)\n",
    "\n",
    "query_words = query.split(' ')"
   ]
  },
  {
   "cell_type": "code",
   "execution_count": 46,
   "id": "4803b5e8-2624-416a-ba1e-188bae49a531",
   "metadata": {},
   "outputs": [
    {
     "name": "stdout",
     "output_type": "stream",
     "text": [
      "Ham: 0.99941, Spam: 0.00059\n",
      "\n",
      "Predicted Class: ham\n",
      "Actual Class: ham\n"
     ]
    }
   ],
   "source": [
    "# https://stats.stackexchange.com/questions/66079/naive-bayes-classifier-gives-a-probability-greater-than-1\n",
    "\n",
    "p_words_ham = 1\n",
    "p_words_spam = 1\n",
    "\n",
    "for word in query_words:\n",
    "    df_p_word = df_p[df_p[\"word\"] == word]\n",
    "\n",
    "    p_words_ham *= df_p_word['prob_ham'].values[0]\n",
    "    p_words_spam *= df_p_word['prob_spam'].values[0]\n",
    "\n",
    "p_words = (p_ham * p_words_ham) + (p_spam * p_words_spam)\n",
    "\n",
    "p_final_ham = p_words_ham * p_ham / p_words\n",
    "p_final_spam = p_words_spam * p_spam / p_words\n",
    "\n",
    "print(f\"Ham: {p_final_ham:.5f}, Spam: {p_final_spam:.5f}\")\n",
    "\n",
    "if p_final_ham > p_final_spam:\n",
    "    classified = 'ham'\n",
    "else:\n",
    "    classified = 'spam'\n",
    "\n",
    "print(\"\")\n",
    "print(f\"Predicted Class: {classified}\")\n",
    "print(f\"Actual Class: {actual_class}\")"
   ]
  }
 ],
 "metadata": {
  "kernelspec": {
   "display_name": "Python 3",
   "language": "python",
   "name": "python3"
  },
  "language_info": {
   "codemirror_mode": {
    "name": "ipython",
    "version": 3
   },
   "file_extension": ".py",
   "mimetype": "text/x-python",
   "name": "python",
   "nbconvert_exporter": "python",
   "pygments_lexer": "ipython3",
   "version": "3.9.18"
  }
 },
 "nbformat": 4,
 "nbformat_minor": 5
}

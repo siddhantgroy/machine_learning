{
 "cells": [
  {
   "cell_type": "markdown",
   "id": "2db1b0d9-c288-4ab3-8669-bc2c3930c0ae",
   "metadata": {},
   "source": [
    "# Simulated Annealing"
   ]
  },
  {
   "cell_type": "code",
   "execution_count": 1,
   "id": "1b7d98cf-13e8-4a06-9c07-cb52db10e054",
   "metadata": {},
   "outputs": [],
   "source": [
    "import random\n",
    "import math\n",
    "import decimal"
   ]
  },
  {
   "cell_type": "code",
   "execution_count": 2,
   "id": "cc82d9dd-044e-4c73-83a8-8d4e8446cce7",
   "metadata": {},
   "outputs": [],
   "source": [
    "def reset_board():\n",
    "    board = [-1 for i in range(8)]\n",
    "    for i in range(8):\n",
    "        board[i] = random.randint(0, 7)\n",
    "    return board\n",
    "\n",
    "def fitness(board):\n",
    "    attacks = 0\n",
    "    \n",
    "    for queen in range(8):\n",
    "        for next_queen in range(queen + 1, 8):\n",
    "            if board[queen] == board[next_queen] or  \\\n",
    "               abs(queen - next_queen) == abs(board[queen] - board[next_queen]):\n",
    "                attacks += 1\n",
    "                \n",
    "    return attacks\n"
   ]
  },
  {
   "cell_type": "code",
   "execution_count": 3,
   "id": "1a87b9cf-96a2-4a6c-8333-e82e1856f253",
   "metadata": {},
   "outputs": [
    {
     "name": "stdout",
     "output_type": "stream",
     "text": [
      "Solution: [3, 6, 4, 2, 0, 5, 7, 1]\n",
      "Unsuccessful\n",
      "Solution: [4, 1, 3, 5, 7, 2, 0, 6]\n",
      "Unsuccessful\n",
      "Unsuccessful\n",
      "Solution: [6, 0, 2, 7, 5, 3, 1, 4]\n",
      "Solution: [3, 1, 7, 4, 6, 0, 2, 5]\n",
      "Solution: [3, 1, 6, 2, 5, 7, 0, 4]\n"
     ]
    }
   ],
   "source": [
    "# the initial temperature\n",
    "temperature = 4000\n",
    "\n",
    "# the rate to decrease the temperature at every iteration\n",
    "rate = 0.99\n",
    "\n",
    "# list of all found solutions\n",
    "solutions = []\n",
    "\n",
    "while len(solutions) < 5:\n",
    "    board_queens = reset_board()\n",
    "\n",
    "    solution_found = False\n",
    "    for iteration in range(150_000):\n",
    "        temperature *= rate\n",
    "        successor_queens = reset_board()\n",
    "        fit_dif = fitness(successor_queens) - fitness(board_queens)\n",
    "        exp = decimal.Decimal(math.e) ** decimal.Decimal(-1 * fit_dif * temperature)\n",
    "\n",
    "        if fit_dif > 0 or random.uniform(0, 1) < exp:\n",
    "            board_queens = successor_queens\n",
    "\n",
    "        if fitness(board_queens) == 0:\n",
    "            print(\"Solution: \", end='')\n",
    "            print(board_queens)\n",
    "            \n",
    "            if board_queens not in solutions:\n",
    "                solutions.append(board_queens)\n",
    "                \n",
    "            solution_found = True\n",
    "            break\n",
    "\n",
    "    if solution_found == False:\n",
    "        print(\"Unsuccessful\")"
   ]
  },
  {
   "cell_type": "markdown",
   "id": "2c9bf675-e48f-4632-9d8c-976a35452a48",
   "metadata": {},
   "source": [
    "## Visualization"
   ]
  },
  {
   "cell_type": "code",
   "execution_count": 4,
   "id": "5bf61085-2398-4923-9a38-90347a6f1e43",
   "metadata": {},
   "outputs": [
    {
     "name": "stdout",
     "output_type": "stream",
     "text": [
      "  A B C D E F G H\n",
      "1 □ □ □ □ □ □ □ □ \n",
      "2 □ □ □ □ □ □ □ □ \n",
      "3 □ □ □ □ □ □ □ □ \n",
      "4 □ □ □ □ □ □ □ □ \n",
      "5 □ □ □ □ □ □ □ □ \n",
      "6 □ □ □ □ □ □ □ □ \n",
      "7 □ □ □ □ □ □ □ □ \n",
      "8 □ □ □ □ □ □ □ □ \n"
     ]
    }
   ],
   "source": [
    "def prepare_chessboard():\n",
    "    chessboard = [[\"□\" for x in range(8)] for y in range(8)]\n",
    "    return chessboard\n",
    "\n",
    "def display_chessboard(board):\n",
    "    print('  A B C D E F G H')\n",
    "    for x in range(len(board)):\n",
    "        print(x + 1, end=' ')\n",
    "        for y in range(len(board[x])):\n",
    "            print(board[x][y], end=' ')\n",
    "        print('')\n",
    "\n",
    "# Test display\n",
    "display_chessboard(prepare_chessboard())"
   ]
  },
  {
   "cell_type": "code",
   "execution_count": 5,
   "id": "03ce3103-12c0-4f2b-a50a-c23217b9599d",
   "metadata": {},
   "outputs": [
    {
     "name": "stdout",
     "output_type": "stream",
     "text": [
      "  A B C D E F G H\n",
      "1 □ □ □ ■ □ □ □ □ \n",
      "2 □ □ □ □ □ □ ■ □ \n",
      "3 □ □ □ □ ■ □ □ □ \n",
      "4 □ □ ■ □ □ □ □ □ \n",
      "5 ■ □ □ □ □ □ □ □ \n",
      "6 □ □ □ □ □ ■ □ □ \n",
      "7 □ □ □ □ □ □ □ ■ \n",
      "8 □ ■ □ □ □ □ □ □ \n",
      "\n",
      "  A B C D E F G H\n",
      "1 □ □ □ □ ■ □ □ □ \n",
      "2 □ ■ □ □ □ □ □ □ \n",
      "3 □ □ □ ■ □ □ □ □ \n",
      "4 □ □ □ □ □ ■ □ □ \n",
      "5 □ □ □ □ □ □ □ ■ \n",
      "6 □ □ ■ □ □ □ □ □ \n",
      "7 ■ □ □ □ □ □ □ □ \n",
      "8 □ □ □ □ □ □ ■ □ \n",
      "\n",
      "  A B C D E F G H\n",
      "1 □ □ □ □ □ □ ■ □ \n",
      "2 ■ □ □ □ □ □ □ □ \n",
      "3 □ □ ■ □ □ □ □ □ \n",
      "4 □ □ □ □ □ □ □ ■ \n",
      "5 □ □ □ □ □ ■ □ □ \n",
      "6 □ □ □ ■ □ □ □ □ \n",
      "7 □ ■ □ □ □ □ □ □ \n",
      "8 □ □ □ □ ■ □ □ □ \n",
      "\n",
      "  A B C D E F G H\n",
      "1 □ □ □ ■ □ □ □ □ \n",
      "2 □ ■ □ □ □ □ □ □ \n",
      "3 □ □ □ □ □ □ □ ■ \n",
      "4 □ □ □ □ ■ □ □ □ \n",
      "5 □ □ □ □ □ □ ■ □ \n",
      "6 ■ □ □ □ □ □ □ □ \n",
      "7 □ □ ■ □ □ □ □ □ \n",
      "8 □ □ □ □ □ ■ □ □ \n",
      "\n",
      "  A B C D E F G H\n",
      "1 □ □ □ ■ □ □ □ □ \n",
      "2 □ ■ □ □ □ □ □ □ \n",
      "3 □ □ □ □ □ □ ■ □ \n",
      "4 □ □ ■ □ □ □ □ □ \n",
      "5 □ □ □ □ □ ■ □ □ \n",
      "6 □ □ □ □ □ □ □ ■ \n",
      "7 ■ □ □ □ □ □ □ □ \n",
      "8 □ □ □ □ ■ □ □ □ \n",
      "\n"
     ]
    }
   ],
   "source": [
    "for solution in solutions:\n",
    "    chessboard_solution = prepare_chessboard()\n",
    "    i = -1\n",
    "    for j in solution:\n",
    "        i += 1\n",
    "        chessboard_solution[i][j] = '■'\n",
    "\n",
    "    display_chessboard(chessboard_solution)\n",
    "    print(\"\")"
   ]
  },
  {
   "cell_type": "code",
   "execution_count": null,
   "id": "0cebe64e-be62-44cd-8edd-42071aaf2c98",
   "metadata": {},
   "outputs": [],
   "source": []
  }
 ],
 "metadata": {
  "kernelspec": {
   "display_name": "Python 3",
   "language": "python",
   "name": "python3"
  },
  "language_info": {
   "codemirror_mode": {
    "name": "ipython",
    "version": 3
   },
   "file_extension": ".py",
   "mimetype": "text/x-python",
   "name": "python",
   "nbconvert_exporter": "python",
   "pygments_lexer": "ipython3",
   "version": "3.9.18"
  }
 },
 "nbformat": 4,
 "nbformat_minor": 5
}
